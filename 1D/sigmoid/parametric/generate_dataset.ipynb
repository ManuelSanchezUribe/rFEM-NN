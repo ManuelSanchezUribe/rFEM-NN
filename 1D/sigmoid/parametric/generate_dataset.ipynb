{
 "cells": [
  {
   "cell_type": "code",
   "execution_count": 1,
   "id": "29c78024",
   "metadata": {},
   "outputs": [],
   "source": [
    "import numpy as np\n",
    "import pandas as pd"
   ]
  },
  {
   "cell_type": "code",
   "execution_count": 2,
   "id": "df9fade6",
   "metadata": {},
   "outputs": [],
   "source": [
    "np.random.seed(40)\n",
    "\n",
    "# Data set\n",
    "n_samples = 100\n",
    "alpha_min, alpha_max = 1, 50  \n",
    "a, b                 = np.log2(alpha_min), np.log2(alpha_max)  \n",
    "alpha                = (alpha_max+alpha_min) - np.logspace(a, b, num=n_samples, base=2)\n",
    "s                    = np.linspace(0.2, 0.8, n_samples) \n",
    "\n",
    "data_s1, data_s2 =  np.meshgrid(alpha, s)\n",
    "data = np.array([data_s1.ravel(), data_s2.ravel()]).T\n",
    "n_70          = int(0.7 * len(data))\n",
    "\n",
    "# Mandatory training set\n",
    "mandatory_train   = {0, 99, 9900, 9999} # corners\n",
    "mandatory_test    = {3609, 5887, 9294}  # ploted points\n",
    "remaining_indices = set(range(0, len(data))) - mandatory_train - mandatory_test\n",
    "n_mandatory_train = len(mandatory_train)\n",
    "\n",
    "# Generate random train/test split\n",
    "train_indices     = set(np.random.choice(list(remaining_indices), size= n_70-n_mandatory_train, replace=False))\n",
    "train_indices    |= mandatory_train\n",
    "test_indices      = set(range(len(data))) - train_indices\n",
    "\n",
    "train_indices = np.array(sorted(train_indices))\n",
    "test_indices  = np.array(sorted(test_indices))\n",
    "\n",
    "# Selection of 7 random indices and the mandatory test indices\n",
    "test_subset       = np.array(test_indices[np.random.choice(len(test_indices), 10, replace=False)])\n",
    "alpha_test_subset = data[test_subset]\n",
    "alpha_special     = data[list(mandatory_test)]\n",
    "\n",
    "# Create DataFrames\n",
    "dataset_df = pd.DataFrame(data, columns=['alpha', 's'])\n",
    "indices_train_df = pd.DataFrame({'train_indices': train_indices})\n",
    "indices_test_df  = pd.DataFrame({'test_indices': test_indices})\n",
    "set_test_subset_df = pd.DataFrame(alpha_test_subset, columns=['alpha', 's'])\n",
    "set_special_df = pd.DataFrame(alpha_special, columns=['alpha', 's'])\n",
    "\n",
    "\n",
    "# Save to CSV files\n",
    "folder = 'Dataset/'\n",
    "dataset_df.to_csv(folder + 'dataset.csv', index=False)\n",
    "indices_train_df.to_csv(folder + 'train_indices.csv', index=False)\n",
    "indices_test_df.to_csv(folder + 'test_indices.csv', index=False)\n",
    "set_test_subset_df.to_csv(folder + 'test_subset.csv', index=False)\n",
    "set_special_df.to_csv(folder + 'special_test.csv', index=False)\n"
   ]
  }
 ],
 "metadata": {
  "kernelspec": {
   "display_name": "course2",
   "language": "python",
   "name": "python3"
  },
  "language_info": {
   "codemirror_mode": {
    "name": "ipython",
    "version": 3
   },
   "file_extension": ".py",
   "mimetype": "text/x-python",
   "name": "python",
   "nbconvert_exporter": "python",
   "pygments_lexer": "ipython3",
   "version": "3.12.0"
  }
 },
 "nbformat": 4,
 "nbformat_minor": 5
}
