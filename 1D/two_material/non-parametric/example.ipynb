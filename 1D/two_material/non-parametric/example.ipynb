{
 "cells": [
  {
   "cell_type": "markdown",
   "metadata": {},
   "source": [
    "By Danilo Aballay, Federico Fuentes, Vicente Iligaray, Ángel J. Omella, David Pardo, Manuel A. Sánchez, Ignacio Tapia, Carlos Uriarte\n",
    "\n",
    "This notebook is used for the two material problem:\n",
    "$$u(x) = \\frac{sin(2\\pi x)}{\\sigma(x)}$$\n",
    "\n",
    "$$ \\sigma = \\begin{cases} 1 & 0\\leq x\\leq 0.5\\\\10& 0.5<x\\leq 1\\end{cases}$$\n"
   ]
  },
  {
   "cell_type": "code",
   "execution_count": null,
   "metadata": {},
   "outputs": [],
   "source": [
    "# Import libraries\n",
    "import jax\n",
    "import jax.numpy as jnp\n",
    "import numpy as np\n",
    "import matplotlib.pyplot as plt\n",
    "import os\n",
    "import time\n",
    "from scipy.integrate import quad\n",
    "\n",
    "os.environ[\"KERAS_BACKEND\"] = \"jax\"\n",
    "\n",
    "import keras\n",
    "\n",
    "from fem_system import solve, solve_and_loss\n",
    "from r_adaptivity_NN import make_model, make_loss_model, lr_schedule, tricky_loss\n",
    "from Problem import Problem\n",
    "\n",
    "# Set the random seed\n",
    "np.random.seed(1234)\n",
    "keras.utils.set_random_seed(1234)\n",
    "\n",
    "dtype='float64' # double precision set to default in the SCR functions\n",
    "jax.config.update(\"jax_enable_x64\", True)\n",
    "keras.backend.set_floatx(dtype)"
   ]
  },
  {
   "cell_type": "code",
   "execution_count": null,
   "metadata": {},
   "outputs": [],
   "source": [
    "def Exact_Ritz():\n",
    "    problem_test = Problem()\n",
    "    rho = problem_test.sigma[-1]\n",
    "    return - (np.pi**2) / 2 - (np.pi**2) / (2 * rho)   \n"
   ]
  },
  {
   "cell_type": "code",
   "execution_count": null,
   "metadata": {},
   "outputs": [],
   "source": [
    "# Create the model\n",
    "# Number of neurons \n",
    "nn = 17\n",
    "# Number of training iterations\n",
    "iterations = 1000\n",
    "\n",
    "# Initialize the neural network model for the approximate solution\n",
    "model = make_model(nn)\n",
    "\n",
    "# Save initial nodes\n",
    "init_nodes = model(jnp.array([1]))\n",
    "\n",
    "# Create loss model\n",
    "loss_model = make_loss_model(model)\n",
    "\n",
    "# Optimizer (Adam optimizer with a specific learning rate)\n",
    "optimizer = keras.optimizers.Adam(learning_rate=1e-2)\n",
    "\n",
    "# Learning rate schedule\n",
    "\n",
    "lr_scheduler = keras.callbacks.LearningRateScheduler(lr_schedule)\n",
    "\n",
    "# Compile the loss model with a custom loss function (tricky_loss)\n",
    "loss_model.compile(optimizer=optimizer, loss=tricky_loss)"
   ]
  },
  {
   "cell_type": "code",
   "execution_count": null,
   "metadata": {},
   "outputs": [],
   "source": [
    "# Train the model\n",
    "start_time = time.time()\n",
    "history    = loss_model.fit(jnp.array([1.]), jnp.array([1.]), epochs=iterations, callbacks = [lr_scheduler], verbose=1)\n",
    "end_time   = time.time() \n",
    "print('Training time: ', end_time - start_time)"
   ]
  },
  {
   "cell_type": "code",
   "execution_count": null,
   "metadata": {},
   "outputs": [],
   "source": [
    "# Plot results\n",
    "uniform_nodes = jnp.linspace(0, 1, nn)\n",
    "\n",
    "node_coords, u    = solve(model(jnp.array([1])))\n",
    "uniform_coords, o = solve(uniform_nodes)\n",
    "problem_test      = Problem()\n",
    "x     = np.linspace(0, 1, 100)\n",
    "\n",
    "def sigma(x):\n",
    "    return np.where(x < 0.5, problem_test.sigma[0], problem_test.sigma[-1])\n",
    "\n",
    "y = jnp.sin(2 * np.pi * x) / sigma(x)\n",
    "\n",
    "J_u_theta = np.array(history.history['loss'])\n",
    "J_u       = Exact_Ritz()\n",
    "J_u_h     = solve_and_loss(uniform_nodes)\n",
    "\n",
    "rel_error_theta = np.sqrt((J_u - J_u_theta)/J_u)\n",
    "rel_error_h = np.sqrt((J_u - J_u_h)/J_u)\n",
    "\n",
    "print('e_h:', rel_error_h)\n",
    "print('e_theta:', rel_error_theta[-1])\n",
    "\n",
    "# Plot the approximate solution obtained from the trained model\n",
    "plt.figure(1)\n",
    "plt.plot(node_coords, u,'o--', color='r', fillstyle='none')\n",
    "plt.plot(x, y, color='k')\n",
    "plt.xlabel('x')\n",
    "plt.legend(['r-Adapted solution', 'Exact solution'])\n",
    "plt.grid(which = 'both', axis = 'both', linestyle = ':', color = 'gray')\n",
    "plt.tight_layout()\n",
    "\n",
    "# Plot the approximate solution obtained from the uniform mesh\n",
    "plt.figure(2)\n",
    "plt.plot(uniform_coords, o, 'o--', color='b', fillstyle='none')\n",
    "plt.plot(x, y, color='k')\n",
    "plt.xlabel('x')\n",
    "plt.legend(['Uniform mesh solution', 'Exact solution'])\n",
    "plt.grid(which = 'both', axis = 'both', linestyle = ':', color = 'gray')\n",
    "plt.tight_layout()\n",
    "\n",
    "# Plot the relative error\n",
    "plt.figure(3)\n",
    "plt.loglog(np.arange(1,iterations+1), rel_error_theta,'-.', color='b')\n",
    "plt.xlabel('Iterations')\n",
    "plt.ylabel('Relative error')\n",
    "plt.grid(which = 'both', axis = 'both', linestyle = ':', color = 'gray')\n",
    "plt.tight_layout()\n",
    "\n",
    "plt.show()"
   ]
  }
 ],
 "metadata": {
  "kernelspec": {
   "display_name": "master",
   "language": "python",
   "name": "python3"
  },
  "language_info": {
   "codemirror_mode": {
    "name": "ipython",
    "version": 3
   },
   "file_extension": ".py",
   "mimetype": "text/x-python",
   "name": "python",
   "nbconvert_exporter": "python",
   "pygments_lexer": "ipython3",
   "version": "3.12.0"
  }
 },
 "nbformat": 4,
 "nbformat_minor": 2
}
