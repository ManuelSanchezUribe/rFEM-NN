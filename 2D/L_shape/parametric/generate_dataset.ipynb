{
 "cells": [
  {
   "cell_type": "code",
   "execution_count": 1,
   "id": "87d4112b",
   "metadata": {},
   "outputs": [],
   "source": [
    "import numpy as np\n",
    "import pandas as pd"
   ]
  },
  {
   "cell_type": "code",
   "execution_count": 2,
   "id": "def36978",
   "metadata": {},
   "outputs": [],
   "source": [
    "np.random.seed(40)\n",
    "\n",
    "# Data set\n",
    "n_samples = 20\n",
    "s1                   = np.logspace(-1, 1, n_samples) \n",
    "s2                   = np.logspace(-1, 1, n_samples) \n",
    "\n",
    "data_s1, data_s2 =  np.meshgrid(s1, s2)\n",
    "data = np.array([data_s1.ravel(), data_s2.ravel()]).T\n",
    "n_70          = int(0.7 * len(data))\n",
    "\n",
    "\n",
    "# Mandatory training set\n",
    "mandatory_train   = {0, 19, 380, 399} # corners\n",
    "mandatory_test    = {13, 332, 149}  # ploted points\n",
    "remaining_indices = set(range(0, len(data))) - mandatory_train - mandatory_test\n",
    "n_mandatory_train = len(mandatory_train)\n",
    "\n",
    "# Generate random train/test split\n",
    "train_indices     = set(np.random.choice(list(remaining_indices), size= n_70-n_mandatory_train, replace=False))\n",
    "train_indices    |= mandatory_train\n",
    "test_indices      = set(range(len(data))) - train_indices\n",
    "\n",
    "train_indices = np.array(sorted(train_indices))\n",
    "test_indices  = np.array(sorted(test_indices))\n",
    "\n",
    "# Selection of 7 random indices and the mandatory test indices\n",
    "test_subset       = np.array(test_indices[np.random.choice(len(test_indices), 10, replace=False)])\n",
    "alpha_test_subset = data[test_subset]\n",
    "alpha_special     = data[list(mandatory_test)]\n",
    "\n",
    "# Create DataFrames\n",
    "dataset_df = pd.DataFrame(data, columns=['s1', 's2'])\n",
    "indices_train_df = pd.DataFrame({'train_indices': train_indices})\n",
    "indices_test_df  = pd.DataFrame({'test_indices': test_indices})\n",
    "set_test_subset_df = pd.DataFrame(test_subset)\n",
    "set_special_df = pd.DataFrame(list(mandatory_test))\n",
    "\n",
    "\n",
    "\n",
    "# Save to CSV files\n",
    "folder = 'Dataset/'\n",
    "dataset_df.to_csv(folder + 'dataset.csv', index=False)\n",
    "indices_train_df.to_csv(folder + 'train_indices.csv', index=False)\n",
    "indices_test_df.to_csv(folder + 'test_indices.csv', index=False)\n",
    "set_test_subset_df.to_csv(folder + 'test_subset.csv', index=False)\n",
    "set_special_df.to_csv(folder + 'special_test.csv', index=False)\n"
   ]
  },
  {
   "cell_type": "code",
   "execution_count": 4,
   "id": "a72736bf",
   "metadata": {},
   "outputs": [],
   "source": [
    "_train_data = np.load('ngsolve/train_data.npz')\n",
    "sigma_ritz_train = _train_data['sigma']\n",
    "ritz_train = _train_data['Ritz']\n",
    "\n",
    "_val_data = np.load('ngsolve/val_data.npz')\n",
    "sigma_ritz_val = _val_data['sigma']\n",
    "ritz_val = _val_data['Ritz']\n",
    "\n",
    "sigma_all = np.concatenate((sigma_ritz_train, sigma_ritz_val))\n"
   ]
  },
  {
   "cell_type": "code",
   "execution_count": 5,
   "id": "dea96f0c",
   "metadata": {},
   "outputs": [],
   "source": [
    "ritz_all = np.concatenate((ritz_train, ritz_val))"
   ]
  },
  {
   "cell_type": "code",
   "execution_count": 6,
   "id": "02cce6d3",
   "metadata": {},
   "outputs": [],
   "source": [
    "ritz_all_order = []\n",
    "sigma_all_order = []\n",
    "\n",
    "for i in range(len(ritz_all)):\n",
    "    for j in range(len(ritz_all)):\n",
    "        if np.all(np.isclose(sigma_all[j], data[i])):\n",
    "            ritz_all_order.append(ritz_all[j])\n",
    "            sigma_all_order.append(sigma_all[j])\n",
    "            break\n"
   ]
  },
  {
   "cell_type": "code",
   "execution_count": 7,
   "id": "c5c86aa1",
   "metadata": {},
   "outputs": [],
   "source": [
    "ritz_all_order = np.array(ritz_all_order)\n",
    "sigma_all_order = np.array(sigma_all_order)"
   ]
  },
  {
   "cell_type": "code",
   "execution_count": 8,
   "id": "78aaac58",
   "metadata": {},
   "outputs": [],
   "source": [
    "np.save('ngsolve/ritz_exact_all.npy', ritz_all_order)\n",
    "np.save('ngsolve/sigma_all.npy', sigma_all_order)"
   ]
  }
 ],
 "metadata": {
  "kernelspec": {
   "display_name": "course2",
   "language": "python",
   "name": "python3"
  },
  "language_info": {
   "codemirror_mode": {
    "name": "ipython",
    "version": 3
   },
   "file_extension": ".py",
   "mimetype": "text/x-python",
   "name": "python",
   "nbconvert_exporter": "python",
   "pygments_lexer": "ipython3",
   "version": "3.12.0"
  }
 },
 "nbformat": 4,
 "nbformat_minor": 5
}
